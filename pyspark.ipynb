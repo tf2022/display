{
 "cells": [
  {
   "cell_type": "code",
   "execution_count": 51,
   "id": "99890450-d975-4140-8294-83cca8e5abbc",
   "metadata": {},
   "outputs": [],
   "source": [
    "import pyspark\n",
    "\n",
    "from pyspark.sql import SparkSession  \n",
    "from pyspark.sql.functions import col, regexp_extract, sum as pyspark_sum, when  ,desc,row_number"
   ]
  },
  {
   "cell_type": "code",
   "execution_count": null,
   "id": "22c34402-c11d-4e11-98c2-8e2b0b3711f8",
   "metadata": {},
   "outputs": [],
   "source": [
    "spark = SparkSession.builder.appName(\"PeerIDYearProcessing\").getOrCreate()  \n",
    "data = [  \n",
    "    ('ABC17969(AB)', '1', 'ABC17969', 2022),  \n",
    "    ('ABC17969(AB)', '2', 'CDC52533', 2022),  \n",
    "    ('ABC17969(AB)', '3', 'DEC59161', 2023),  \n",
    "    ('ABC17969(AB)', '4', 'F43874', 2022),  \n",
    "    ('ABC17969(AB)', '5', 'MY06154', 2021),  \n",
    "    ('ABC17969(AB)', '6', 'MY4387', 2022),  \n",
    "    ('AE686(AE)', '7', 'AE686', 2023),  \n",
    "    ('AE686(AE)', '8', 'BH2740', 2021),  \n",
    "    ('AE686(AE)', '9', 'EG999', 2021),  \n",
    "    ('AE686(AE)', '10', 'AE0908', 2021),  \n",
    "    ('AE686(AE)', '11', 'QA402', 2022),  \n",
    "    ('AE686(AE)', '12', 'OM691', 2022)  \n",
    "]  \n",
    "  \n",
    "columns = [\"peer_id\", \"id_1\", \"id_2\", \"year\"]  \n",
    "df = spark.createDataFrame(data, schema=columns)  "
   ]
  },
  {
   "cell_type": "code",
   "execution_count": 52,
   "id": "1ee33bff-caea-4dd1-b76d-64094de0e2b8",
   "metadata": {},
   "outputs": [
    {
     "name": "stdout",
     "output_type": "stream",
     "text": [
      "+------------+----+--------+----+\n",
      "|     peer_id|id_1|    id_2|year|\n",
      "+------------+----+--------+----+\n",
      "|ABC17969(AB)|   1|ABC17969|2022|\n",
      "|ABC17969(AB)|   2|CDC52533|2022|\n",
      "|ABC17969(AB)|   3|DEC59161|2023|\n",
      "|ABC17969(AB)|   4|  F43874|2022|\n",
      "|ABC17969(AB)|   5| MY06154|2021|\n",
      "|ABC17969(AB)|   6|  MY4387|2022|\n",
      "|   AE686(AE)|   7|   AE686|2023|\n",
      "|   AE686(AE)|   8|  BH2740|2021|\n",
      "|   AE686(AE)|   9|   EG999|2021|\n",
      "|   AE686(AE)|  10|  AE0908|2021|\n",
      "|   AE686(AE)|  11|   QA402|2022|\n",
      "|   AE686(AE)|  12|   OM691|2022|\n",
      "+------------+----+--------+----+\n",
      "\n"
     ]
    }
   ],
   "source": [
    "df.show()"
   ]
  },
  {
   "cell_type": "code",
   "execution_count": 12,
   "id": "ded497e0-d47a-40a2-b8e6-ccfcf7012a6b",
   "metadata": {},
   "outputs": [
    {
     "name": "stdout",
     "output_type": "stream",
     "text": [
      "+------------+----+--------+----+-----------+\n",
      "|     peer_id|id_1|    id_2|year|target_year|\n",
      "+------------+----+--------+----+-----------+\n",
      "|ABC17969(AB)|   1|ABC17969|2022|       2022|\n",
      "|   AE686(AE)|   7|   AE686|2023|       2023|\n",
      "+------------+----+--------+----+-----------+\n",
      "\n"
     ]
    }
   ],
   "source": [
    "df_with_year = df.withColumn(\"target_year\", when(col(\"peer_id\").contains(col(\"id_2\")), col(\"year\"))).dropDuplicates().dropna() \n",
    "df_with_year.show()"
   ]
  },
  {
   "cell_type": "code",
   "execution_count": 18,
   "id": "6a2c6443-8dd5-4b3c-9fad-a5b14e83d18a",
   "metadata": {},
   "outputs": [
    {
     "name": "stdout",
     "output_type": "stream",
     "text": [
      "+------------+----+-----+-----------+\n",
      "|     peer_id|year|count|target_year|\n",
      "+------------+----+-----+-----------+\n",
      "|ABC17969(AB)|2021|    1|       2022|\n",
      "|ABC17969(AB)|2022|    4|       2022|\n",
      "|   AE686(AE)|2022|    2|       2023|\n",
      "|   AE686(AE)|2021|    3|       2023|\n",
      "|   AE686(AE)|2023|    1|       2023|\n",
      "+------------+----+-----+-----------+\n",
      "\n"
     ]
    }
   ],
   "source": [
    "# Q2: Group by peer_id and year, then count and filter year\n",
    "df_grouped = df.groupBy(\"peer_id\", \"year\").count()\n",
    "df_filtered = df_grouped.join(df_with_year.select(\"peer_id\", \"target_year\"), on=\"peer_id\").where(col(\"year\") <= col(\"target_year\"))\n",
    "df_filtered.show()"
   ]
  },
  {
   "cell_type": "code",
   "execution_count": 35,
   "id": "a25b3a31-af3e-4727-8743-d1d3893a3764",
   "metadata": {},
   "outputs": [
    {
     "name": "stdout",
     "output_type": "stream",
     "text": [
      "+------------+----+-----+-----------+----------------+---+\n",
      "|     peer_id|year|count|target_year|cumulative_count| rn|\n",
      "+------------+----+-----+-----------+----------------+---+\n",
      "|ABC17969(AB)|2022|    4|       2022|               4|  1|\n",
      "|ABC17969(AB)|2021|    1|       2022|               5|  2|\n",
      "|   AE686(AE)|2023|    1|       2023|               1|  1|\n",
      "|   AE686(AE)|2022|    2|       2023|               3|  2|\n",
      "|   AE686(AE)|2021|    3|       2023|               6|  3|\n",
      "+------------+----+-----+-----------+----------------+---+\n",
      "\n"
     ]
    }
   ],
   "source": [
    "windowSpec = pyspark_sum(\"count\").over(pyspark.sql.Window.partitionBy(\"peer_id\").orderBy(desc(\"year\")))\n",
    "windowSpec2 = row_number().over(pyspark.sql.Window.partitionBy(\"peer_id\").orderBy(desc(\"year\")))\n",
    "df_cumulative = df_filtered.withColumn(\"cumulative_count\", windowSpec)\n",
    "df_cumulative=df_cumulative.withColumn(\"rn\",windowSpec2)\n",
    "df_cumulative.show()"
   ]
  },
  {
   "cell_type": "code",
   "execution_count": 55,
   "id": "bcee0e36-dda9-45e4-8a4e-c7ebbd3eb8bd",
   "metadata": {},
   "outputs": [
    {
     "name": "stdout",
     "output_type": "stream",
     "text": [
      "+------------+----+-----+-----------+----------------+---+\n",
      "|     peer_id|year|count|target_year|cumulative_count| rn|\n",
      "+------------+----+-----+-----------+----------------+---+\n",
      "|ABC17969(AB)|2022|    4|       2022|               4|  1|\n",
      "|ABC17969(AB)|2021|    1|       2022|               5|  2|\n",
      "|   AE686(AE)|2022|    2|       2023|               3|  2|\n",
      "|   AE686(AE)|2021|    3|       2023|               6|  3|\n",
      "+------------+----+-----+-----------+----------------+---+\n",
      "\n",
      "+------------+---------------------+\n",
      "|     peer_id|min(cumulative_count)|\n",
      "+------------+---------------------+\n",
      "|ABC17969(AB)|                    4|\n",
      "|   AE686(AE)|                    3|\n",
      "+------------+---------------------+\n",
      "\n"
     ]
    }
   ],
   "source": [
    "size=3 \n",
    "# Filter rows where the cumulative count is bigger than or equal to the size  \n",
    "df_tmp = df_cumulative.where(col(\"cumulative_count\") >= size)\n",
    "df_tmp.show()\n",
    "\n",
    "df_tmp1=df_tmp.groupBy(\"peer_id\").min('cumulative_count')\n",
    "df_tmp1.show()"
   ]
  },
  {
   "cell_type": "code",
   "execution_count": 60,
   "id": "00837c50-8f5c-48b9-b37c-0874e688ab75",
   "metadata": {},
   "outputs": [
    {
     "name": "stdout",
     "output_type": "stream",
     "text": [
      "+------------+----+-----+-----------+----------------+---+---------------------+\n",
      "|     peer_id|year|count|target_year|cumulative_count| rn|min(cumulative_count)|\n",
      "+------------+----+-----+-----------+----------------+---+---------------------+\n",
      "|ABC17969(AB)|2022|    4|       2022|               4|  1|                    4|\n",
      "|   AE686(AE)|2023|    1|       2023|               1|  1|                    3|\n",
      "|   AE686(AE)|2022|    2|       2023|               3|  2|                    3|\n",
      "+------------+----+-----+-----------+----------------+---+---------------------+\n",
      "\n"
     ]
    }
   ],
   "source": [
    "df_result=df_cumulative.join(df_tmp1,on=\"peer_id\").where(col(\"cumulative_count\") <= col(\"min(cumulative_count)\"))\n",
    "df_result.orderBy('peer_id',desc('year')).show()"
   ]
  },
  {
   "cell_type": "code",
   "execution_count": null,
   "id": "7986be18-9733-404d-b238-48eb3a6c8014",
   "metadata": {},
   "outputs": [],
   "source": []
  }
 ],
 "metadata": {
  "kernelspec": {
   "display_name": "Python 3 (ipykernel)",
   "language": "python",
   "name": "python3"
  },
  "language_info": {
   "codemirror_mode": {
    "name": "ipython",
    "version": 3
   },
   "file_extension": ".py",
   "mimetype": "text/x-python",
   "name": "python",
   "nbconvert_exporter": "python",
   "pygments_lexer": "ipython3",
   "version": "3.11.6"
  }
 },
 "nbformat": 4,
 "nbformat_minor": 5
}
